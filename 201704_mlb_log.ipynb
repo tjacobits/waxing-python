{
    "cells": [
        {
            "cell_type": "code",
            "execution_count": 1,
            "metadata": {},
            "outputs": [],
            "source": "# The code was removed by Watson Studio for sharing."
        },
        {
            "cell_type": "code",
            "execution_count": 2,
            "metadata": {},
            "outputs": [],
            "source": "#import libraries\nimport pandas as pd\nimport pylab as pl\nimport numpy as np\nimport scipy.optimize as opt\nfrom sklearn import preprocessing\n%matplotlib inline \nimport matplotlib.pyplot as plt"
        },
        {
            "cell_type": "code",
            "execution_count": null,
            "metadata": {},
            "outputs": [],
            "source": "#get data file\nmlb_data='https://docs.google.com/spreadsheets/d/e/2PACX-1vS2HXPw7qJMK-M2KwyJKdFn9I6jrJFgv2Dq5lHfC519UcTZjXqtwu9fkaQ9FFY8pRwORq48omi1CN1J/pub?output=csv'\nrealdata=\"https://docs.google.com/spreadsheets/d/e/2PACX-1vSHRaBIdC4ZSxeqIisi_Y-IsZch7LUvHZAAP77raoGaQkfjNaqKExXKM6y2u89IMX-mVUQftCoSFDJt/pub?output=csv\""
        },
        {
            "cell_type": "code",
            "execution_count": null,
            "metadata": {},
            "outputs": [],
            "source": "#load data to panda dataframe\nmlb_data=pd.read_csv(mlb_data, error_bad_lines=False)\n#add a column for manipulating score\n#apr2017['add2']=apr2017['score']+.2\n#check format\nmlb_data.head()"
        },
        {
            "cell_type": "code",
            "execution_count": null,
            "metadata": {},
            "outputs": [],
            "source": "#set features for the model\nmlb_data= mlb_data[['score','w']]\n#make sure boolean column is set to integer\nmlb_data['w'] = mlb_data['w'].astype('int')\n#check data structure\nmlb_data.head()"
        },
        {
            "cell_type": "code",
            "execution_count": 6,
            "metadata": {},
            "outputs": [
                {
                    "data": {
                        "text/plain": "array([[ 0.17],\n       [ 0.21],\n       [-0.67],\n       [-2.02],\n       [ 0.13]])"
                    },
                    "execution_count": 6,
                    "metadata": {},
                    "output_type": "execute_result"
                }
            ],
            "source": "#define x for the dataset\nX = np.asarray(mlb_data[['score']])\n#view first 5 records\nX[0:5]"
        },
        {
            "cell_type": "code",
            "execution_count": 7,
            "metadata": {},
            "outputs": [
                {
                    "data": {
                        "text/plain": "array([0, 0, 0, 1, 0])"
                    },
                    "execution_count": 7,
                    "metadata": {},
                    "output_type": "execute_result"
                }
            ],
            "source": "#define y for dataset\ny = np.asarray(mlb_data['w'])\n#view first 5 records\ny [0:5]"
        },
        {
            "cell_type": "code",
            "execution_count": 8,
            "metadata": {},
            "outputs": [
                {
                    "data": {
                        "text/plain": "array([[ 0.45237102],\n       [ 0.5062684 ],\n       [-0.67947398],\n       [-2.4985106 ],\n       [ 0.39847364]])"
                    },
                    "execution_count": 8,
                    "metadata": {},
                    "output_type": "execute_result"
                }
            ],
            "source": "#normalize the dataset\nfrom sklearn import preprocessing\nX = preprocessing.StandardScaler().fit(X).transform(X)\nX[0:5]"
        },
        {
            "cell_type": "code",
            "execution_count": 9,
            "metadata": {},
            "outputs": [
                {
                    "name": "stdout",
                    "output_type": "stream",
                    "text": "Train set: (855, 1) (855,)\nTest set: (856, 1) (856,)\n"
                }
            ],
            "source": "#create train and test sets\nfrom sklearn.model_selection import train_test_split\nX_train, X_test, y_train, y_test = train_test_split( X, y, test_size=.5, random_state=4)\nprint ('Train set:', X_train.shape,  y_train.shape)\nprint ('Test set:', X_test.shape,  y_test.shape)"
        },
        {
            "cell_type": "code",
            "execution_count": 10,
            "metadata": {},
            "outputs": [
                {
                    "data": {
                        "text/plain": "LogisticRegression(C=0.01, class_weight=None, dual=False, fit_intercept=True,\n          intercept_scaling=1, max_iter=100, multi_class='warn',\n          n_jobs=None, penalty='l2', random_state=None, solver='liblinear',\n          tol=0.0001, verbose=0, warm_start=False)"
                    },
                    "execution_count": 10,
                    "metadata": {},
                    "output_type": "execute_result"
                }
            ],
            "source": "#model\nfrom sklearn.linear_model import LogisticRegression\nfrom sklearn.metrics import confusion_matrix\nLR = LogisticRegression(C=0.01, solver='liblinear').fit(X_train,y_train)\nLR"
        },
        {
            "cell_type": "code",
            "execution_count": 11,
            "metadata": {},
            "outputs": [],
            "source": "#predict with test set\nyhat = LR.predict(X_test)"
        },
        {
            "cell_type": "code",
            "execution_count": 12,
            "metadata": {},
            "outputs": [],
            "source": "yhat_prob = LR.predict_proba(X_test)"
        },
        {
            "cell_type": "code",
            "execution_count": 13,
            "metadata": {},
            "outputs": [
                {
                    "data": {
                        "text/plain": "0.5210280373831776"
                    },
                    "execution_count": 13,
                    "metadata": {},
                    "output_type": "execute_result"
                }
            ],
            "source": "#evaluate with jaccard\nfrom sklearn.metrics import jaccard_similarity_score\njaccard_similarity_score(y_test, yhat)"
        },
        {
            "cell_type": "code",
            "execution_count": 14,
            "metadata": {},
            "outputs": [
                {
                    "name": "stdout",
                    "output_type": "stream",
                    "text": "[[ 12 404]\n [  6 434]]\n"
                }
            ],
            "source": "#evaluate with confusion matrix\nfrom sklearn.metrics import classification_report, confusion_matrix\nimport itertools\ndef plot_confusion_matrix(cm, classes,\n                          normalize=False,\n                          title='Confusion matrix',\n                          cmap=plt.cm.Blues):\n    \"\"\"\n    This function prints and plots the confusion matrix.\n    Normalization can be applied by setting `normalize=True`.\n    \"\"\"\n    if normalize:\n        cm = cm.astype('float') / cm.sum(axis=1)[:, np.newaxis]\n        print(\"Normalized confusion matrix\")\n    else:\n        print('Confusion matrix, without normalization')\n\n    print(cm)\n\n    plt.imshow(cm, interpolation='nearest', cmap=cmap)\n    plt.title(title)\n    plt.colorbar()\n    tick_marks = np.arange(len(classes))\n    plt.xticks(tick_marks, classes, rotation=45)\n    plt.yticks(tick_marks, classes)\n\n    fmt = '.2f' if normalize else 'd'\n    thresh = cm.max() / 2.\n    for i, j in itertools.product(range(cm.shape[0]), range(cm.shape[1])):\n        plt.text(j, i, format(cm[i, j], fmt),\n                 horizontalalignment=\"center\",\n                 color=\"white\" if cm[i, j] > thresh else \"black\")\n\n    plt.tight_layout()\n    plt.ylabel('True label')\n    plt.xlabel('Predicted label')\nprint(confusion_matrix(y_test, yhat, labels=[1,0]))"
        },
        {
            "cell_type": "code",
            "execution_count": 15,
            "metadata": {},
            "outputs": [
                {
                    "name": "stdout",
                    "output_type": "stream",
                    "text": "Confusion matrix, without normalization\n[[ 12 404]\n [  6 434]]\n"
                },
                {
                    "data": {
                        "image/png": "[encoded data removed]",
                        "text/plain": "<Figure size 432x288 with 2 Axes>"
                    },
                    "metadata": {
                        "needs_background": "light"
                    },
                    "output_type": "display_data"
                }
            ],
            "source": "# Compute confusion matrix\ncnf_matrix = confusion_matrix(y_test, yhat, labels=[1,0])\nnp.set_printoptions(precision=2)\n\n\n# Plot non-normalized confusion matrix\nplt.figure()\nplot_confusion_matrix(cnf_matrix, classes=['w=1','w=0'],normalize= False,  title='Confusion matrix')"
        },
        {
            "cell_type": "code",
            "execution_count": 16,
            "metadata": {},
            "outputs": [
                {
                    "name": "stdout",
                    "output_type": "stream",
                    "text": "              precision    recall  f1-score   support\n\n           0       0.52      0.99      0.68       440\n           1       0.67      0.03      0.06       416\n\n   micro avg       0.52      0.52      0.52       856\n   macro avg       0.59      0.51      0.37       856\nweighted avg       0.59      0.52      0.38       856\n\n"
                }
            ],
            "source": "print (classification_report(y_test, yhat))"
        },
        {
            "cell_type": "code",
            "execution_count": 17,
            "metadata": {},
            "outputs": [
                {
                    "data": {
                        "text/plain": "0.6936613015089644"
                    },
                    "execution_count": 17,
                    "metadata": {},
                    "output_type": "execute_result"
                }
            ],
            "source": "from sklearn.metrics import log_loss\nlog_loss(y_test, yhat_prob)"
        },
        {
            "cell_type": "code",
            "execution_count": 18,
            "metadata": {},
            "outputs": [
                {
                    "data": {
                        "text/html": "<div>\n<style scoped>\n    .dataframe tbody tr th:only-of-type {\n        vertical-align: middle;\n    }\n\n    .dataframe tbody tr th {\n        vertical-align: top;\n    }\n\n    .dataframe thead th {\n        text-align: right;\n    }\n</style>\n<table border=\"1\" class=\"dataframe\">\n  <thead>\n    <tr style=\"text-align: right;\">\n      <th></th>\n      <th>score</th>\n    </tr>\n  </thead>\n  <tbody>\n    <tr>\n      <th>0</th>\n      <td>0.20</td>\n    </tr>\n    <tr>\n      <th>1</th>\n      <td>0.29</td>\n    </tr>\n    <tr>\n      <th>2</th>\n      <td>-0.16</td>\n    </tr>\n    <tr>\n      <th>3</th>\n      <td>-0.02</td>\n    </tr>\n    <tr>\n      <th>4</th>\n      <td>-0.93</td>\n    </tr>\n  </tbody>\n</table>\n</div>",
                        "text/plain": "   score\n0   0.20\n1   0.29\n2  -0.16\n3  -0.02\n4  -0.93"
                    },
                    "execution_count": 18,
                    "metadata": {},
                    "output_type": "execute_result"
                }
            ],
            "source": "#model testing\n#load data to panda dataframe\ndata=pd.read_csv(realdata, error_bad_lines=False)\n#add a column for manipulating score\n#apr2017['add2']=apr2017['score']+.2\n#check format\ndata.head()"
        },
        {
            "cell_type": "code",
            "execution_count": 19,
            "metadata": {},
            "outputs": [],
            "source": "#predict with real set\nyhatreal = LR.predict(data)"
        },
        {
            "cell_type": "code",
            "execution_count": 24,
            "metadata": {},
            "outputs": [],
            "source": "results=pd.DataFrame(yhatreal)"
        },
        {
            "cell_type": "code",
            "execution_count": 21,
            "metadata": {},
            "outputs": [
                {
                    "data": {
                        "text/plain": "{'file_name': 'results.csv',\n 'message': 'File saved to project storage.',\n 'bucket_name': '2017nbamodel-donotdelete-pr-qmkbf25fealawx',\n 'asset_id': '290a2603-d56f-495b-8040-8147464dbe31'}"
                    },
                    "execution_count": 21,
                    "metadata": {},
                    "output_type": "execute_result"
                }
            ],
            "source": "# Save dataframe as csv file to storage\nproject.save_data(data=results.to_csv(index=False),file_name='results.csv',overwrite=True)"
        }
    ],
    "metadata": {
        "kernelspec": {
            "display_name": "Python 3.6",
            "language": "python",
            "name": "python3"
        },
        "language_info": {
            "codemirror_mode": {
                "name": "ipython",
                "version": 3
            },
            "file_extension": ".py",
            "mimetype": "text/x-python",
            "name": "python",
            "nbconvert_exporter": "python",
            "pygments_lexer": "ipython3",
            "version": "3.6.9"
        }
    },
    "nbformat": 4,
    "nbformat_minor": 1
}